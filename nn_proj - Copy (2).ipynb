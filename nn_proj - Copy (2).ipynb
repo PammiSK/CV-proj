{
 "cells": [
  {
   "cell_type": "markdown",
   "metadata": {},
   "source": [
    "Installs"
   ]
  },
  {
   "cell_type": "code",
   "execution_count": null,
   "metadata": {},
   "outputs": [],
   "source": [
    "!pip install datasets\n",
    "!pip install wordcloud\n",
    "!pip install textblob\n",
    "!pip install nltk\n",
    "!pip install tensorflow-gpu"
   ]
  },
  {
   "cell_type": "markdown",
   "metadata": {},
   "source": [
    "Imports"
   ]
  },
  {
   "cell_type": "code",
   "execution_count": null,
   "metadata": {},
   "outputs": [],
   "source": [
    "import pandas as pd\n",
    "import numpy as np\n",
    "import tensorflow as tf\n",
    "from tensorflow.keras.preprocessing.text import Tokenizer\n",
    "from tensorflow.keras.preprocessing.sequence import pad_sequences\n",
    "from sklearn.model_selection import train_test_split, StratifiedShuffleSplit\n",
    "import torch\n",
    "from torch.utils.data import TensorDataset, DataLoader, RandomSampler, SequentialSampler\n",
    "import torch.nn.functional as F\n",
    "from transformers import BertTokenizer, BertConfig, AdamW, BertForSequenceClassification, get_linear_schedule_with_warmup\n",
    "import seaborn as sns\n",
    "import matplotlib.pyplot as plt\n",
    "from sklearn.metrics import confusion_matrix, classification_report, accuracy_score, matthews_corrcoef\n",
    "from tqdm import tqdm, trange, tnrange, tqdm_notebook\n",
    "import random\n",
    "import os\n",
    "import io\n",
    "from datasets import load_dataset\n",
    "import nltk\n",
    "from nltk.corpus import stopwords\n",
    "from nltk.stem import WordNetLemmatizer\n",
    "import re\n",
    "import string"
   ]
  },
  {
   "cell_type": "markdown",
   "metadata": {},
   "source": [
    "Load dataset"
   ]
  },
  {
   "cell_type": "code",
   "execution_count": null,
   "metadata": {},
   "outputs": [],
   "source": [
    "dataset = load_dataset(\"dair-ai/emotion\", \"unsplit\")\n",
    "data = pd.DataFrame(dataset['train'])\n",
    "print(\"data\",len(data),data.shape)\n",
    "data = data.sample(frac=0.01, random_state=42).reset_index(drop=True)\n",
    "print(\"data frac\",len(data),data.shape)"
   ]
  },
  {
   "cell_type": "markdown",
   "metadata": {},
   "source": [
    "Pre-processing"
   ]
  },
  {
   "cell_type": "code",
   "execution_count": null,
   "metadata": {},
   "outputs": [],
   "source": [
    "nltk.download('stopwords')\n",
    "nltk.download('wordnet')\n",
    "\n",
    "MAX_LEN = 256\n",
    "\n",
    "tokenizer = BertTokenizer.from_pretrained('bert-base-uncased', do_lower_case=True)\n",
    "print(\"data.text.val\",len(data['text'].values))\n",
    "print(\"data.text\",len(data['text']))\n",
    "\n",
    "input_ids = [tokenizer.encode(sent, add_special_tokens=True, max_length=MAX_LEN, pad_to_max_length=True) for sent in data['text'].values]\n",
    "print(\"inputs.ids\",len(input_ids))\n",
    "\n",
    "labels = data['label'].values\n",
    "\n",
    "print(\"labels, data.labels\",len(labels))\n",
    "\n",
    "print(\"Actual sentence before tokenization: \", data['text'].values[2])\n",
    "print(\"Encoded Input from dataset: \", input_ids[2])\n",
    "\n",
    "attention_masks = []\n",
    "attention_masks = [[float(i > 0) for i in seq] for seq in input_ids]\n",
    "print(attention_masks[2])\n",
    "\n",
    "train_inputs, temp_inputs, train_labels, temp_labels = train_test_split(input_ids, labels, random_state=41, test_size=0.2, stratify=labels)\n",
    "train_masks, temp_masks, _, _ = train_test_split(attention_masks, input_ids, random_state=41, test_size=0.2, stratify=labels)\n",
    "\n",
    "validation_inputs, test_inputs, validation_labels, test_labels = train_test_split(temp_inputs, temp_labels, random_state=41, test_size=0.5, stratify=temp_labels)\n",
    "validation_masks, test_masks, _, _ = train_test_split(temp_masks, temp_inputs, random_state=41, test_size=0.5, stratify=temp_labels)\n",
    "\n",
    "train_inputs = torch.tensor(train_inputs)\n",
    "validation_inputs = torch.tensor(validation_inputs)\n",
    "test_inputs = torch.tensor(test_inputs)\n",
    "train_labels = torch.tensor(train_labels)\n",
    "validation_labels = torch.tensor(validation_labels)\n",
    "test_labels = torch.tensor(test_labels)\n",
    "train_masks = torch.tensor(train_masks)\n",
    "validation_masks = torch.tensor(validation_masks)\n",
    "test_masks = torch.tensor(test_masks)\n",
    "\n",
    "print(len(train_inputs))\n",
    "print(len(test_inputs))"
   ]
  },
  {
   "cell_type": "markdown",
   "metadata": {},
   "source": [
    "Data loading for model"
   ]
  },
  {
   "cell_type": "code",
   "execution_count": null,
   "metadata": {},
   "outputs": [],
   "source": [
    "batch_size = 32\n",
    "\n",
    "train_data = TensorDataset(train_inputs, train_masks, train_labels)\n",
    "train_sampler = RandomSampler(train_data)\n",
    "train_dataloader = DataLoader(train_data, sampler=train_sampler, batch_size=batch_size)\n",
    "print(len(train_data))\n",
    "\n",
    "validation_data = TensorDataset(validation_inputs, validation_masks, validation_labels)\n",
    "validation_sampler = RandomSampler(validation_data)\n",
    "validation_dataloader = DataLoader(validation_data, sampler=validation_sampler, batch_size=batch_size)\n",
    "\n",
    "test_data = TensorDataset(test_inputs, test_masks, test_labels)\n",
    "test_sampler = SequentialSampler(test_data)\n",
    "test_dataloader = DataLoader(test_data, sampler=test_sampler, batch_size=batch_size)\n",
    "print(len(test_data))"
   ]
  },
  {
   "cell_type": "markdown",
   "metadata": {},
   "source": [
    "Device setup"
   ]
  },
  {
   "cell_type": "code",
   "execution_count": null,
   "metadata": {},
   "outputs": [],
   "source": [
    "torch.cuda.is_available(),tf.test.gpu_device_name(),torch.cuda.device_count(),torch.cuda.get_device_name(0)"
   ]
  },
  {
   "cell_type": "code",
   "execution_count": null,
   "metadata": {},
   "outputs": [],
   "source": [
    "if tf.test.gpu_device_name():\n",
    "    print('GPU found')\n",
    "else:\n",
    "    print(\"No GPU found\")\n",
    "\n",
    "device = torch.device(\"cuda\" if torch.cuda.is_available() else \"cpu\")\n",
    "n_gpu = torch.cuda.device_count()\n",
    "torch.cuda.get_device_name(0)\n",
    "\n",
    "SEED = 32\n",
    "random.seed(SEED)\n",
    "np.random.seed(SEED)\n",
    "torch.manual_seed(SEED)\n",
    "if device == torch.device(\"cuda\"):\n",
    "    torch.cuda.manual_seed_all(SEED)\n",
    "device = torch.device(\"cuda\")\n",
    "print(device)"
   ]
  },
  {
   "cell_type": "markdown",
   "metadata": {},
   "source": [
    "Model initialisation"
   ]
  },
  {
   "cell_type": "code",
   "execution_count": null,
   "metadata": {},
   "outputs": [],
   "source": [
    "model = BertForSequenceClassification.from_pretrained(\"bert-base-uncased\", num_labels=6).to(device)\n",
    "\n",
    "lr = 2e-5\n",
    "adam_epsilon = 1e-8\n",
    "\n",
    "epochs = 3\n",
    "\n",
    "num_warmup_steps = 0\n",
    "num_training_steps = len(train_dataloader) * epochs\n",
    "\n",
    "optimizer = AdamW(model.parameters(), lr=lr, eps=adam_epsilon, correct_bias=False) \n",
    "scheduler = get_linear_schedule_with_warmup(optimizer, num_warmup_steps=num_warmup_steps, num_training_steps=num_training_steps) "
   ]
  },
  {
   "cell_type": "markdown",
   "metadata": {},
   "source": [
    "Training loop"
   ]
  },
  {
   "cell_type": "code",
   "execution_count": null,
   "metadata": {},
   "outputs": [],
   "source": [
    "train_loss_set = []\n",
    "train_accuracy_set = []\n",
    "learning_rate = []\n",
    "\n",
    "model.zero_grad()\n",
    "\n",
    "for epoch in tnrange(1, epochs + 1, desc='Epoch'):\n",
    "    \n",
    "    print(\"<\" + \"=\" * 22 + f\" Epoch {epoch} \" + \"=\" * 22 + \">\")\n",
    "    batch_loss = 0\n",
    "    batch_accuracy = 0\n",
    "\n",
    "    for step, batch in enumerate(train_dataloader):\n",
    "        model.train()\n",
    "\n",
    "        batch = tuple(t.to(device) for t in batch)\n",
    "        b_input_ids, b_input_mask, b_labels = batch\n",
    "\n",
    "        outputs = model(b_input_ids, token_type_ids=None, attention_mask=b_input_mask, labels=b_labels)\n",
    "        loss, logits = outputs[:2]\n",
    "\n",
    "        loss.backward()\n",
    "\n",
    "        torch.nn.utils.clip_grad_norm_(model.parameters(), 1.0)\n",
    "\n",
    "        optimizer.step()\n",
    "\n",
    "        scheduler.step()\n",
    "\n",
    "        optimizer.zero_grad()\n",
    "\n",
    "        batch_loss += loss.item()\n",
    "\n",
    "        logits = logits.detach().cpu().numpy()\n",
    "        label_ids = b_labels.to('cpu').numpy()\n",
    "        pred_flat = np.argmax(logits, axis=1).flatten()\n",
    "        labels_flat = label_ids.flatten()\n",
    "        batch_accuracy += accuracy_score(labels_flat, pred_flat)\n",
    "\n",
    "    avg_train_loss = batch_loss / len(train_dataloader)\n",
    "    avg_train_accuracy = batch_accuracy / len(train_dataloader)\n",
    "\n",
    "    for param_group in optimizer.param_groups:\n",
    "        print(\"\\n\\tCurrent Learning rate: \", param_group['lr'])\n",
    "        learning_rate.append(param_group['lr'])\n",
    "\n",
    "    train_loss_set.append(avg_train_loss)\n",
    "    train_accuracy_set.append(avg_train_accuracy)\n",
    "    print(f'\\n\\tAverage Training loss: {avg_train_loss}')\n",
    "    print(f'\\n\\tAverage Training accuracy: {avg_train_accuracy}')\n",
    "\n",
    "    model.eval()\n",
    "\n",
    "    eval_accuracy, eval_mcc_accuracy, nb_eval_steps = 0, 0, 0\n",
    "\n",
    "    for batch in validation_dataloader:\n",
    "        batch = tuple(t.to(device) for t in batch)\n",
    "        b_input_ids, b_input_mask, b_labels = batch\n",
    "        with torch.no_grad():\n",
    "            logits = model(b_input_ids, token_type_ids=None, attention_mask=b_input_mask)\n",
    "\n",
    "        logits = logits[0].to('cpu').numpy()\n",
    "        label_ids = b_labels.to('cpu').numpy()\n",
    "\n",
    "        pred_flat = np.argmax(logits, axis=1).flatten()\n",
    "        labels_flat = label_ids.flatten()\n",
    "\n",
    "        df_metrics = pd.DataFrame({'Epoch': epochs, 'Actual_class': labels_flat, 'Predicted_class': pred_flat})\n",
    "\n",
    "        tmp_eval_accuracy = accuracy_score(labels_flat, pred_flat)\n",
    "        tmp_eval_mcc_accuracy = matthews_corrcoef(labels_flat, pred_flat)\n",
    "\n",
    "        eval_accuracy += tmp_eval_accuracy\n",
    "        eval_mcc_accuracy += tmp_eval_mcc_accuracy\n",
    "        nb_eval_steps += 1\n",
    "\n",
    "    print(f'\\n\\tValidation Accuracy: {eval_accuracy / nb_eval_steps}')\n",
    "    print(f'\\n\\tValidation MCC Accuracy: {eval_mcc_accuracy / nb_eval_steps}')\n",
    "\n",
    "model.eval()"
   ]
  },
  {
   "cell_type": "markdown",
   "metadata": {},
   "source": [
    "Testing loop"
   ]
  },
  {
   "cell_type": "code",
   "execution_count": null,
   "metadata": {},
   "outputs": [],
   "source": [
    "test_accuracy, test_mcc_accuracy, nb_test_steps = 0, 0, 0\n",
    "\n",
    "for batch in test_dataloader:\n",
    "    batch = tuple(t.to(device) for t in batch)\n",
    "    b_input_ids, b_input_mask, b_labels = batch\n",
    "    with torch.no_grad():\n",
    "        logits = model(b_input_ids, token_type_ids=None, attention_mask=b_input_mask)\n",
    "\n",
    "    logits = logits[0].to('cpu').numpy()\n",
    "    label_ids = b_labels.to('cpu').numpy()\n",
    "\n",
    "    pred_flat = np.argmax(logits, axis=1).flatten()\n",
    "    labels_flat = label_ids.flatten()\n",
    "\n",
    "    df_metrics = pd.DataFrame({'Actual_class': labels_flat, 'Predicted_class': pred_flat})\n",
    "\n",
    "    tmp_test_accuracy = accuracy_score(labels_flat, pred_flat)\n",
    "    tmp_test_mcc_accuracy = matthews_corrcoef(labels_flat, pred_flat)\n",
    "\n",
    "    test_accuracy += tmp_test_accuracy\n",
    "    test_mcc_accuracy += tmp_test_mcc_accuracy\n",
    "    nb_test_steps += 1\n",
    "\n",
    "print(f'\\n\\tTest Accuracy: {test_accuracy / nb_test_steps}')\n",
    "print(f'\\n\\tTest MCC Accuracy: {test_mcc_accuracy / nb_test_steps}')"
   ]
  },
  {
   "cell_type": "markdown",
   "metadata": {},
   "source": [
    "Plotting functions and metrics"
   ]
  },
  {
   "cell_type": "code",
   "execution_count": null,
   "metadata": {},
   "outputs": [],
   "source": [
    "def plot_confusion_matrix(cm, classes, normalize=False, title='Confusion matrix', cmap=plt.cm.Blues):\n",
    "    \"\"\"\n",
    "    This function prints and plots the confusion matrix.\n",
    "    Normalization can be applied by setting `normalize=True`.\n",
    "    \"\"\"\n",
    "    import itertools\n",
    "    if normalize:\n",
    "        cm = cm.astype('float') / cm.sum(axis=1)[:, np.newaxis]\n",
    "        print(\"Normalized confusion matrix\")\n",
    "    else:\n",
    "        print('Confusion matrix, without normalization')\n",
    "\n",
    "    print(cm)\n",
    "\n",
    "    plt.imshow(cm, interpolation='nearest', cmap=cmap)\n",
    "    plt.title(title)\n",
    "    plt.colorbar()\n",
    "    tick_marks = np.arange(len(classes))\n",
    "    plt.xticks(tick_marks, classes, rotation=45)\n",
    "    plt.yticks(tick_marks, classes)\n",
    "\n",
    "    fmt = '.2f' if normalize else 'd'\n",
    "    thresh = cm.max() / 2.\n",
    "    for i, j in itertools.product(range(cm.shape[0]), range(cm.shape[1])):\n",
    "        plt.text(j, i, format(cm[i, j], fmt),\n",
    "                 horizontalalignment=\"center\",\n",
    "                 color=\"white\" if cm[i, j] > thresh else \"black\")\n",
    "\n",
    "    plt.ylabel('True label')\n",
    "    plt.xlabel('Predicted label')\n",
    "    plt.tight_layout()\n",
    "\n",
    "#  confusion matrix for test set\n",
    "cm = confusion_matrix(labels_flat, pred_flat)\n",
    "plot_confusion_matrix(cm, classes=[0, 1, 2, 3, 4, 5], title='Confusion Matrix for Test Set')\n",
    "plt.show()\n",
    "\n",
    "#  accuracy over epochs\n",
    "plt.figure(figsize=(10,5))\n",
    "plt.bar(range(1, epochs+1), train_accuracy_set, color='skyblue', label='Train Accuracy')\n",
    "plt.xlabel('Epochs')\n",
    "plt.ylabel('Accuracy')\n",
    "plt.title('Train Accuracy over Epochs')\n",
    "plt.legend()\n",
    "plt.show()\n",
    "\n",
    "#  loss over epochs\n",
    "plt.figure(figsize=(10,5))\n",
    "plt.bar(range(1, epochs+1), train_loss_set, color='salmon', label='Train Loss')\n",
    "plt.xlabel('Epochs')\n",
    "plt.ylabel('Loss')\n",
    "plt.title('Train Loss over Epochs')\n",
    "plt.legend()\n",
    "plt.show()\n"
   ]
  }
 ],
 "metadata": {
  "kernelspec": {
   "display_name": "Python 3",
   "language": "python",
   "name": "python3"
  },
  "language_info": {
   "codemirror_mode": {
    "name": "ipython",
    "version": 3
   },
   "file_extension": ".py",
   "mimetype": "text/x-python",
   "name": "python",
   "nbconvert_exporter": "python",
   "pygments_lexer": "ipython3",
   "version": "3.11.9"
  }
 },
 "nbformat": 4,
 "nbformat_minor": 2
}
